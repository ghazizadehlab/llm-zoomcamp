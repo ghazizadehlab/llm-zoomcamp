{
 "cells": [
  {
   "cell_type": "code",
   "execution_count": 8,
   "metadata": {},
   "outputs": [],
   "source": [
    "import random\n",
    "\n",
    "known_weather_data = {\n",
    "    'berlin': 20.0\n",
    "}\n",
    "\n",
    "def get_weather(city: str) -> float:\n",
    "    city = city.strip().lower()\n",
    "\n",
    "    if city in known_weather_data:\n",
    "        return known_weather_data[city]\n",
    "\n",
    "    return round(random.uniform(-5, 35), 1)"
   ]
  },
  {
   "cell_type": "code",
   "execution_count": 7,
   "metadata": {},
   "outputs": [],
   "source": [
    "# Q1 What did you put in TODO3 = \"city\"\n",
    "get_weather_tool = {\n",
    "    \"type\": \"function\",\n",
    "    \"name\": \"get_weather\",\n",
    "    \"description\": \"determine the weather in a given city\",\n",
    "    \"parameters\": {\n",
    "        \"type\": \"object\",\n",
    "        \"properties\": {\n",
    "            \"city\": {\n",
    "                \"type\": \"string\",\n",
    "                \"description\": \"the city to get the weather for\"\n",
    "            }\n",
    "        },\n",
    "        \"required\": [\"city\"],\n",
    "        \"additionalProperties\": False\n",
    "    }\n",
    "}"
   ]
  },
  {
   "cell_type": "code",
   "execution_count": 6,
   "metadata": {},
   "outputs": [],
   "source": [
    "# Q2 write a description for the set_weather tool\n",
    "def set_weather(city: str, temp: float) -> None:\n",
    "    \"\"\"\n",
    "    Sets the temperature for a specified city.\n",
    "\n",
    "    Parameters:\n",
    "        city (str): The name of the city for which to set the weather data.\n",
    "        temp (float): The temperature to associate with the city.\n",
    "    \"\"\"\n",
    "    city = city.strip().lower()\n",
    "    known_weather_data[city] = temp\n",
    "    return 'OK'"
   ]
  },
  {
   "cell_type": "code",
   "execution_count": 10,
   "metadata": {},
   "outputs": [
    {
     "data": {
      "text/plain": [
       "'2.10.4'"
      ]
     },
     "execution_count": 10,
     "metadata": {},
     "output_type": "execute_result"
    }
   ],
   "source": [
    "# Q3 What version of fastmcp is installed?\n",
    "import fastmcp\n",
    "fastmcp.__version__"
   ]
  },
  {
   "cell_type": "code",
   "execution_count": null,
   "metadata": {},
   "outputs": [
    {
     "name": "stdout",
     "output_type": "stream",
     "text": [
      "\n",
      "\n",
      "\u001b[2m╭─\u001b[0m\u001b[2m FastMCP 2.0 \u001b[0m\u001b[2m───────────────────────────────────────────────────────────────\u001b[0m\u001b[2m─╮\u001b[0m\n",
      "\u001b[2m│\u001b[0m                                                                              \u001b[2m│\u001b[0m\n",
      "\u001b[2m│\u001b[0m                                                                              \u001b[2m│\u001b[0m\n",
      "\u001b[2m│\u001b[0m     \u001b[1;32m    _ __ ___ ______           __  __  _____________       ____    \u001b[0m       \u001b[2m│\u001b[0m\n",
      "\u001b[2m│\u001b[0m     \u001b[1;32m____ \u001b[0m                                                                    \u001b[2m│\u001b[0m\n",
      "\u001b[2m│\u001b[0m     \u001b[1;32m   _ __ ___ / ____/___ ______/ /_/  |/  / ____/ __ \\     |___ \\  / \u001b[0m      \u001b[2m│\u001b[0m\n",
      "\u001b[2m│\u001b[0m     \u001b[1;32m__ \\\u001b[0m                                                                     \u001b[2m│\u001b[0m\n",
      "\u001b[2m│\u001b[0m     \u001b[1;32m  _ __ ___ / /_  / __ `/ ___/ __/ /|_/ / /   / /_/ /     ___/ / / / \u001b[0m     \u001b[2m│\u001b[0m\n",
      "\u001b[2m│\u001b[0m     \u001b[1;32m/ /\u001b[0m                                                                      \u001b[2m│\u001b[0m\n",
      "\u001b[2m│\u001b[0m     \u001b[1;32m _ __ ___ / __/ / /_/ (__  ) /_/ /  / / /___/ ____/     /  __/_/ /_/\u001b[0m     \u001b[2m│\u001b[0m\n",
      "\u001b[2m│\u001b[0m     \u001b[1;32m/ \u001b[0m                                                                       \u001b[2m│\u001b[0m\n",
      "\u001b[2m│\u001b[0m     \u001b[1;32m_ __ ___ /_/    \\__,_/____/\\__/_/  /_/\\____/_/         \u001b[0m                  \u001b[2m│\u001b[0m\n",
      "\u001b[2m│\u001b[0m     \u001b[1;32m/_____(_)____/  \u001b[0m                                                         \u001b[2m│\u001b[0m\n",
      "\u001b[2m│\u001b[0m                                                                              \u001b[2m│\u001b[0m\n",
      "\u001b[2m│\u001b[0m                                                                              \u001b[2m│\u001b[0m\n",
      "\u001b[2m│\u001b[0m                                                                              \u001b[2m│\u001b[0m\n",
      "\u001b[2m│\u001b[0m     \u001b[1m🖥️ \u001b[0m\u001b[1m \u001b[0m\u001b[1;36mServer name:    \u001b[0m\u001b[1;36m \u001b[0m\u001b[37mDemo 🚀              \u001b[0m                                \u001b[2m│\u001b[0m\n",
      "\u001b[2m│\u001b[0m     \u001b[1m📦\u001b[0m\u001b[1m \u001b[0m\u001b[1;36mTransport:      \u001b[0m\u001b[1;36m \u001b[0m\u001b[37mSTDIO                \u001b[0m                                \u001b[2m│\u001b[0m\n",
      "\u001b[2m│\u001b[0m     \u001b[1m  \u001b[0m\u001b[1m \u001b[0m\u001b[1;36m                \u001b[0m\u001b[1;36m \u001b[0m\u001b[37m                     \u001b[0m                                \u001b[2m│\u001b[0m\n",
      "\u001b[2m│\u001b[0m     \u001b[1m📚\u001b[0m\u001b[1m \u001b[0m\u001b[1;36mDocs:           \u001b[0m\u001b[1;36m \u001b[0m\u001b[37mhttps://gofastmcp.com\u001b[0m                                \u001b[2m│\u001b[0m\n",
      "\u001b[2m│\u001b[0m     \u001b[1m🚀\u001b[0m\u001b[1m \u001b[0m\u001b[1;36mDeploy:         \u001b[0m\u001b[1;36m \u001b[0m\u001b[37mhttps://fastmcp.cloud\u001b[0m                                \u001b[2m│\u001b[0m\n",
      "\u001b[2m│\u001b[0m     \u001b[1m  \u001b[0m\u001b[1m \u001b[0m\u001b[1;36m                \u001b[0m\u001b[1;36m \u001b[0m\u001b[37m                     \u001b[0m                                \u001b[2m│\u001b[0m\n",
      "\u001b[2m│\u001b[0m     \u001b[1m🏎️ \u001b[0m\u001b[1m \u001b[0m\u001b[1;36mFastMCP version:\u001b[0m\u001b[1;36m \u001b[0m\u001b[2;37m2.10.4               \u001b[0m                                \u001b[2m│\u001b[0m\n",
      "\u001b[2m│\u001b[0m     \u001b[1m🤝\u001b[0m\u001b[1m \u001b[0m\u001b[1;36mMCP version:    \u001b[0m\u001b[1;36m \u001b[0m\u001b[2;37m1.11.0               \u001b[0m                                \u001b[2m│\u001b[0m\n",
      "\u001b[2m│\u001b[0m                                                                              \u001b[2m│\u001b[0m\n",
      "\u001b[2m│\u001b[0m                                                                              \u001b[2m│\u001b[0m\n",
      "\u001b[2m╰──────────────────────────────────────────────────────────────────────────────╯\u001b[0m\n",
      "\n",
      "\n",
      "\u001b[2;36m[07/21/25 10:54:33]\u001b[0m\u001b[2;36m \u001b[0m\u001b[34mINFO    \u001b[0m Starting MCP server \u001b[32m'Demo 🚀'\u001b[0m with   \u001b]8;id=773265;file:///opt/miniconda3/envs/finespresso/lib/python3.11/site-packages/fastmcp/server/server.py\u001b\\\u001b[2mserver.py\u001b[0m\u001b]8;;\u001b\\\u001b[2m:\u001b[0m\u001b]8;id=411838;file:///opt/miniconda3/envs/finespresso/lib/python3.11/site-packages/fastmcp/server/server.py#1352\u001b\\\u001b[2m1352\u001b[0m\u001b]8;;\u001b\\\n",
      "\u001b[2;36m                    \u001b[0m         transport \u001b[32m'stdio'\u001b[0m                    \u001b[2m              \u001b[0m\n",
      "^C\n",
      "Traceback (most recent call last):\n",
      "  File \"/Users/alighazizadeh/Documents/GitHub/llm-zoomcamp/0a-agentic/weather_server.py\", line 51, in <module>\n",
      "    mcp.run() \n",
      "    ^^^^^^^^^\n",
      "  File \"/opt/miniconda3/envs/finespresso/lib/python3.11/site-packages/fastmcp/server/server.py\", line 328, in run\n",
      "    anyio.run(\n",
      "  File \"/opt/miniconda3/envs/finespresso/lib/python3.11/site-packages/anyio/_core/_eventloop.py\", line 74, in run\n",
      "    return async_backend.run(func, args, {}, backend_options)\n",
      "           ^^^^^^^^^^^^^^^^^^^^^^^^^^^^^^^^^^^^^^^^^^^^^^^^^^\n",
      "  File \"/opt/miniconda3/envs/finespresso/lib/python3.11/site-packages/anyio/_backends/_asyncio.py\", line 2207, in run\n",
      "    return runner.run(wrapper())\n",
      "           ^^^^^^^^^^^^^^^^^^^^^\n",
      "  File \"/opt/miniconda3/envs/finespresso/lib/python3.11/asyncio/runners.py\", line 118, in run\n",
      "    return self._loop.run_until_complete(task)\n",
      "           ^^^^^^^^^^^^^^^^^^^^^^^^^^^^^^^^^^^\n",
      "  File \"/opt/miniconda3/envs/finespresso/lib/python3.11/asyncio/base_events.py\", line 641, in run_until_complete\n",
      "    self.run_forever()\n",
      "  File \"/opt/miniconda3/envs/finespresso/lib/python3.11/asyncio/base_events.py\", line 608, in run_forever\n",
      "    self._run_once()\n",
      "  File \"/opt/miniconda3/envs/finespresso/lib/python3.11/asyncio/base_events.py\", line 1898, in _run_once\n",
      "    event_list = self._selector.select(timeout)\n",
      "                 ^^^^^^^^^^^^^^^^^^^^^^^^^^^^^^\n",
      "  File \"/opt/miniconda3/envs/finespresso/lib/python3.11/selectors.py\", line 566, in select\n",
      "    kev_list = self._selector.control(None, max_ev, timeout)\n",
      "               ^^^^^^^^^^^^^^^^^^^^^^^^^^^^^^^^^^^^^^^^^^^^^\n",
      "  File \"/opt/miniconda3/envs/finespresso/lib/python3.11/asyncio/runners.py\", line 157, in _on_sigint\n",
      "    raise KeyboardInterrupt()\n",
      "KeyboardInterrupt\n"
     ]
    }
   ],
   "source": [
    "# Q4 what is the transport? ans: transport 'stdio'\n",
    "!python weather_server.py"
   ]
  },
  {
   "cell_type": "code",
   "execution_count": 38,
   "metadata": {},
   "outputs": [
    {
     "name": "stdout",
     "output_type": "stream",
     "text": [
      "Started server with command: python weather_server.py\n",
      "Sending initialize request...\n",
      "Initialize response: {'protocolVersion': '2024-11-05', 'capabilities': {'experimental': {}, 'prompts': {'listChanged': False}, 'resources': {'subscribe': False, 'listChanged': False}, 'tools': {'listChanged': True}}, 'serverInfo': {'name': 'Demo 🚀', 'version': '1.11.0'}}\n",
      "Initialization: {'protocolVersion': '2024-11-05', 'capabilities': {'experimental': {}, 'prompts': {'listChanged': False}, 'resources': {'subscribe': False, 'listChanged': False}, 'tools': {'listChanged': True}}, 'serverInfo': {'name': 'Demo 🚀', 'version': '1.11.0'}}\n",
      "Sending initialized notification...\n",
      "Handshake completed successfully\n",
      "Retrieving available tools...\n",
      "Available tools: ['add', 'get_weather', 'set_weather']\n",
      "Available tools: [{'name': 'add', 'description': 'Add two numbers', 'inputSchema': {'properties': {'a': {'title': 'A', 'type': 'integer'}, 'b': {'title': 'B', 'type': 'integer'}}, 'required': ['a', 'b'], 'type': 'object'}, 'outputSchema': {'properties': {'result': {'title': 'Result', 'type': 'integer'}}, 'required': ['result'], 'title': '_WrappedResult', 'type': 'object', 'x-fastmcp-wrap-result': True}}, {'name': 'get_weather', 'description': 'Retrieves the temperature for a specified city.\\n\\nParameters:\\n    city (str): The name of the city for which to retrieve weather data.\\n\\nReturns:\\n    float: The temperature associated with the city.', 'inputSchema': {'properties': {'city': {'title': 'City', 'type': 'string'}}, 'required': ['city'], 'type': 'object'}, 'outputSchema': {'properties': {'result': {'title': 'Result', 'type': 'number'}}, 'required': ['result'], 'title': '_WrappedResult', 'type': 'object', 'x-fastmcp-wrap-result': True}}, {'name': 'set_weather', 'description': \"Sets the temperature for a specified city.\\n\\nParameters:\\n    city (str): The name of the city for which to set the weather data.\\n    temp (float): The temperature to associate with the city.\\n\\nReturns:\\n    str: A confirmation string 'OK' indicating successful update.\", 'inputSchema': {'properties': {'city': {'title': 'City', 'type': 'string'}, 'temp': {'title': 'Temp', 'type': 'number'}}, 'required': ['city', 'temp'], 'type': 'object'}}]\n",
      "\n",
      "Available Tools:\n",
      "--------------------------------------------------\n",
      "Name: add\n",
      "Description: Add two numbers\n",
      "Parameters:\n",
      "  - a (integer): No description\n",
      "  - b (integer): No description\n",
      "--------------------------------------------------\n",
      "Name: get_weather\n",
      "Description: Retrieves the temperature for a specified city.\n",
      "\n",
      "Parameters:\n",
      "    city (str): The name of the city for which to retrieve weather data.\n",
      "\n",
      "Returns:\n",
      "    float: The temperature associated with the city.\n",
      "Parameters:\n",
      "  - city (string): No description\n",
      "--------------------------------------------------\n",
      "Name: set_weather\n",
      "Description: Sets the temperature for a specified city.\n",
      "\n",
      "Parameters:\n",
      "    city (str): The name of the city for which to set the weather data.\n",
      "    temp (float): The temperature to associate with the city.\n",
      "\n",
      "Returns:\n",
      "    str: A confirmation string 'OK' indicating successful update.\n",
      "Parameters:\n",
      "  - city (string): No description\n",
      "  - temp (number): No description\n",
      "--------------------------------------------------\n",
      "Available tools: None\n",
      "Calling tool 'add' with arguments: {'a': 10, 'b': 5}\n",
      "Add result: {'content': [{'type': 'text', 'text': '15'}], 'structuredContent': {'result': 15}, 'isError': False}\n"
     ]
    }
   ],
   "source": [
    "import importlib\n",
    "import mcp_client\n",
    "importlib.reload(mcp_client)\n",
    "from mcp_client import MCPClient\n",
    "\n",
    "\n",
    "# Create client\n",
    "client = MCPClient([\"python\", \"weather_server.py\"])\n",
    "client.start_server()\n",
    "\n",
    "try:\n",
    "    # Initialize the connection\n",
    "    init_response = client.initialize()\n",
    "    print(\"Initialization:\", init_response)\n",
    "    \n",
    "    # Send the initialized notification\n",
    "    client.initialized()\n",
    "    \n",
    "    # Get tools\n",
    "    tools = client.get_tools()\n",
    "    print(\"Available tools:\", tools)\n",
    "    \n",
    "    \n",
    "    # List available tools\n",
    "    tools = client.list_available_tools()\n",
    "    print(\"Available tools:\", tools)\n",
    "    \n",
    "    # Call the add tool\n",
    "    result = client.call_tool(\"add\", {\"a\": 10, \"b\": 5})\n",
    "    print(\"Add result:\", result)\n",
    "    \n",
    "finally:\n",
    "    # Clean up\n",
    "    client.close()\n"
   ]
  },
  {
   "cell_type": "code",
   "execution_count": null,
   "metadata": {},
   "outputs": [
    {
     "name": "stdout",
     "output_type": "stream",
     "text": [
      "Started server with command: python weather_server.py\n",
      "Sending initialize request...\n",
      "Initialize response: {'protocolVersion': '2024-11-05', 'capabilities': {'experimental': {}, 'prompts': {'listChanged': False}, 'resources': {'subscribe': False, 'listChanged': False}, 'tools': {'listChanged': True}}, 'serverInfo': {'name': 'Demo 🚀', 'version': '1.11.0'}}\n",
      "Sending initialized notification...\n",
      "Handshake completed successfully\n",
      "Retrieving available tools...\n",
      "Available tools: ['add', 'get_weather', 'set_weather']\n",
      "Weather in Berlin: {'content': [{'type': 'text', 'text': '-2.0'}], 'structuredContent': {'result': -2.0}, 'isError': False}\n"
     ]
    }
   ],
   "source": [
    "# q5 call get_weather tool directly using _send_request for Berlin weather\n",
    "client = MCPClient([\"python\", \"weather_server.py\"])\n",
    "client.start_server()\n",
    "client.initialize()\n",
    "client.initialized()\n",
    "client.get_tools()\n",
    "\n",
    "try:\n",
    "    # Call get_weather tool directly using _send_request\n",
    "    result = client._send_request(\n",
    "        \"tools/call\",\n",
    "        {\n",
    "            \"name\": \"get_weather\",\n",
    "            \"arguments\": {\"city\": \"berlin\"}\n",
    "        }\n",
    "    )\n",
    "    print(\"Weather in Berlin:\", result)\n",
    "    \n",
    "finally:\n",
    "    client.close()"
   ]
  },
  {
   "cell_type": "code",
   "execution_count": 47,
   "metadata": {},
   "outputs": [
    {
     "name": "stdout",
     "output_type": "stream",
     "text": [
      "Why did the scarecrow win an award?\n",
      "\n",
      "Because he was outstanding in his field!\n"
     ]
    }
   ],
   "source": [
    "from dotenv import load_dotenv\n",
    "from openai import OpenAI\n",
    "load_dotenv()  # defaults to .env in the same directory\n",
    "\n",
    "chat_client = OpenAI()\n",
    "response = chat_client.chat.completions.create(\n",
    "    model=\"gpt-4o-mini\",\n",
    "    messages=[{\"role\": \"user\", \"content\": \"tell me a joke\"}]\n",
    ")\n",
    "print(response.choices[0].message.content)"
   ]
  },
  {
   "cell_type": "code",
   "execution_count": 46,
   "metadata": {},
   "outputs": [
    {
     "name": "stdout",
     "output_type": "stream",
     "text": [
      "Started server with command: python weather_server.py\n",
      "Sending initialize request...\n",
      "Initialize response: {'protocolVersion': '2024-11-05', 'capabilities': {'experimental': {}, 'prompts': {'listChanged': False}, 'resources': {'subscribe': False, 'listChanged': False}, 'tools': {'listChanged': True}}, 'serverInfo': {'name': 'Demo 🚀', 'version': '1.11.0'}}\n",
      "Sending initialized notification...\n",
      "Handshake completed successfully\n"
     ]
    }
   ],
   "source": [
    "importlib.reload(mcp_client)\n",
    "our_mcp_client = mcp_client.MCPClient([\"python\", \"weather_server.py\"])\n",
    "\n",
    "our_mcp_client.start_server()\n",
    "our_mcp_client.initialize()\n",
    "our_mcp_client.initialized()\n",
    "\n",
    "mcp_tools = mcp_client.MCPTools(mcp_client=our_mcp_client)"
   ]
  },
  {
   "cell_type": "code",
   "execution_count": null,
   "metadata": {},
   "outputs": [
    {
     "name": "stdout",
     "output_type": "stream",
     "text": [
      "Retrieving available tools...\n",
      "Available tools: ['add', 'get_weather', 'set_weather']\n"
     ]
    },
    {
     "data": {
      "text/plain": [
       "[{'name': 'add',\n",
       "  'description': 'Add two numbers',\n",
       "  'inputSchema': {'properties': {'a': {'title': 'A', 'type': 'integer'},\n",
       "    'b': {'title': 'B', 'type': 'integer'}},\n",
       "   'required': ['a', 'b'],\n",
       "   'type': 'object'},\n",
       "  'outputSchema': {'properties': {'result': {'title': 'Result',\n",
       "     'type': 'integer'}},\n",
       "   'required': ['result'],\n",
       "   'title': '_WrappedResult',\n",
       "   'type': 'object',\n",
       "   'x-fastmcp-wrap-result': True}},\n",
       " {'name': 'get_weather',\n",
       "  'description': 'Retrieves the temperature for a specified city.\\n\\nParameters:\\n    city (str): The name of the city for which to retrieve weather data.\\n\\nReturns:\\n    float: The temperature associated with the city.',\n",
       "  'inputSchema': {'properties': {'city': {'title': 'City', 'type': 'string'}},\n",
       "   'required': ['city'],\n",
       "   'type': 'object'},\n",
       "  'outputSchema': {'properties': {'result': {'title': 'Result',\n",
       "     'type': 'number'}},\n",
       "   'required': ['result'],\n",
       "   'title': '_WrappedResult',\n",
       "   'type': 'object',\n",
       "   'x-fastmcp-wrap-result': True}},\n",
       " {'name': 'set_weather',\n",
       "  'description': \"Sets the temperature for a specified city.\\n\\nParameters:\\n    city (str): The name of the city for which to set the weather data.\\n    temp (float): The temperature to associate with the city.\\n\\nReturns:\\n    str: A confirmation string 'OK' indicating successful update.\",\n",
       "  'inputSchema': {'properties': {'city': {'title': 'City', 'type': 'string'},\n",
       "    'temp': {'title': 'Temp', 'type': 'number'}},\n",
       "   'required': ['city', 'temp'],\n",
       "   'type': 'object'}}]"
      ]
     },
     "execution_count": 48,
     "metadata": {},
     "output_type": "execute_result"
    }
   ],
   "source": [
    "# Q6 what is the name of the tool? ans: get_weather\n",
    "our_mcp_client.get_tools()"
   ]
  },
  {
   "cell_type": "code",
   "execution_count": 49,
   "metadata": {},
   "outputs": [
    {
     "name": "stdout",
     "output_type": "stream",
     "text": [
      "\n",
      "Available Tools:\n",
      "--------------------------------------------------\n",
      "Name: add\n",
      "Description: Add two numbers\n",
      "Parameters:\n",
      "  - a (integer): No description\n",
      "  - b (integer): No description\n",
      "--------------------------------------------------\n",
      "Name: get_weather\n",
      "Description: Retrieves the temperature for a specified city.\n",
      "\n",
      "Parameters:\n",
      "    city (str): The name of the city for which to retrieve weather data.\n",
      "\n",
      "Returns:\n",
      "    float: The temperature associated with the city.\n",
      "Parameters:\n",
      "  - city (string): No description\n",
      "--------------------------------------------------\n",
      "Name: set_weather\n",
      "Description: Sets the temperature for a specified city.\n",
      "\n",
      "Parameters:\n",
      "    city (str): The name of the city for which to set the weather data.\n",
      "    temp (float): The temperature to associate with the city.\n",
      "\n",
      "Returns:\n",
      "    str: A confirmation string 'OK' indicating successful update.\n",
      "Parameters:\n",
      "  - city (string): No description\n",
      "  - temp (number): No description\n",
      "--------------------------------------------------\n"
     ]
    }
   ],
   "source": [
    "our_mcp_client.list_available_tools()"
   ]
  },
  {
   "cell_type": "code",
   "execution_count": 121,
   "metadata": {},
   "outputs": [
    {
     "data": {
      "text/html": [
       "\n",
       "            <div>\n",
       "                <div><b>Assistant:</b></div>\n",
       "                <div><p>I can't predict sports outcomes, but I can provide you with the current weather in the city where the game is being held, if you'd like! Please let me know the city.</p></div>\n",
       "            </div>\n",
       "        "
      ],
      "text/plain": [
       "<IPython.core.display.HTML object>"
      ]
     },
     "metadata": {},
     "output_type": "display_data"
    },
    {
     "data": {
      "text/html": [
       "\n",
       "            <div>\n",
       "                <div><b>Assistant:</b></div>\n",
       "                <div><p>I can certainly provide information on the U.S. economy, but if you're specifically interested in how the economy might be influenced by weather conditions or have a related inquiry, please clarify. Or, if you have another topic in mind, let me know!</p></div>\n",
       "            </div>\n",
       "        "
      ],
      "text/plain": [
       "<IPython.core.display.HTML object>"
      ]
     },
     "metadata": {},
     "output_type": "display_data"
    },
    {
     "data": {
      "text/html": [
       "\n",
       "            <div>\n",
       "                <div><b>Assistant:</b></div>\n",
       "                <div><p>The U.S. economy is a complex and dynamic system influenced by various factors. Here’s a brief analysis touching on several key components:</p>\n",
       "<ol>\n",
       "<li>\n",
       "<p><strong>Economic Growth</strong>: The U.S. economy has shown resilience in the face of challenges, including the COVID-19 pandemic. GDP growth rates can fluctuate; in recent years, there has been a recovery trend, but growth rates can be impacted by global events and domestic policies.</p>\n",
       "</li>\n",
       "<li>\n",
       "<p><strong>Unemployment</strong>: After reaching historic lows before the pandemic, unemployment rates spiked during the crisis. However, as businesses reopened, the job market has been recovering, with rates generally decreasing.</p>\n",
       "</li>\n",
       "<li>\n",
       "<p><strong>Inflation</strong>: Recently, inflation has been a significant concern, driven by supply chain disruptions, increased demand, and monetary policy measures. The Federal Reserve has been responding with interest rate adjustments to combat rising prices.</p>\n",
       "</li>\n",
       "<li>\n",
       "<p><strong>Monetary Policy</strong>: The Federal Reserve plays a crucial role in regulating the economy through interest rates and quantitative easing. Recent trends have involved tightening monetary policy to control inflation.</p>\n",
       "</li>\n",
       "<li>\n",
       "<p><strong>Consumer Spending</strong>: As a major driver of the economy, consumer spending patterns can reflect economic health. Increased spending often correlates with lower unemployment and economic optimism.</p>\n",
       "</li>\n",
       "<li>\n",
       "<p><strong>Trade and Investment</strong>: International trade relationships and domestic investment trends can impact economic health. Trade policies and geopolitical dynamics can influence these aspects significantly.</p>\n",
       "</li>\n",
       "<li>\n",
       "<p><strong>Sector Performance</strong>: Different sectors, such as technology, healthcare, and renewable energy, may experience varying levels of growth and investment.</p>\n",
       "</li>\n",
       "</ol>\n",
       "<p>Overall, the U.S. economy is subject to internal and external factors, and ongoing monitoring of trends is essential for understanding its trajectory. If you have specific areas of interest or need updated statistics, let me know!</p></div>\n",
       "            </div>\n",
       "        "
      ],
      "text/plain": [
       "<IPython.core.display.HTML object>"
      ]
     },
     "metadata": {},
     "output_type": "display_data"
    },
    {
     "data": {
      "text/html": [
       "\n",
       "            <div>\n",
       "                <div><b>Assistant:</b></div>\n",
       "                <div><p>Thank you! If you have any more questions or if there's anything specific you'd like to learn more about, feel free to ask!</p></div>\n",
       "            </div>\n",
       "        "
      ],
      "text/plain": [
       "<IPython.core.display.HTML object>"
      ]
     },
     "metadata": {},
     "output_type": "display_data"
    },
    {
     "data": {
      "text/html": [
       "\n",
       "            <div>\n",
       "                <div><b>Assistant:</b></div>\n",
       "                <div><p>I can provide current weather information, but historical weather data for specific dates, like the temperature in Tehran 100 years ago, is not available within my capabilities. If you're interested in the current temperature or weather conditions in Tehran, please let me know!</p></div>\n",
       "            </div>\n",
       "        "
      ],
      "text/plain": [
       "<IPython.core.display.HTML object>"
      ]
     },
     "metadata": {},
     "output_type": "display_data"
    },
    {
     "name": "stdout",
     "output_type": "stream",
     "text": [
      "Calling tool 'get_weather' with arguments: {'city': 'Tehran'}\n"
     ]
    },
    {
     "data": {
      "text/html": [
       "\n",
       "            <details>\n",
       "            <summary>Function call: <tt>get_weather({\"city\":\"Tehran\"})</tt></summary>\n",
       "            <div>\n",
       "                <b>Call</b>\n",
       "                <pre>ChatCompletionMessageToolCall(id='call_w8bYArilr3X0YEAbrnjWXA78', function=Function(arguments='{\"city\":\"Tehran\"}', name='get_weather'), type='function')</pre>\n",
       "            </div>\n",
       "            <div>\n",
       "                <b>Output</b>\n",
       "                <pre>{\n",
       "  \"content\": [\n",
       "    {\n",
       "      \"type\": \"text\",\n",
       "      \"text\": \"13.6\"\n",
       "    }\n",
       "  ],\n",
       "  \"structuredContent\": {\n",
       "    \"result\": 13.6\n",
       "  },\n",
       "  \"isError\": false\n",
       "}</pre>\n",
       "            </div>\n",
       "            \n",
       "            </details>\n",
       "        "
      ],
      "text/plain": [
       "<IPython.core.display.HTML object>"
      ]
     },
     "metadata": {},
     "output_type": "display_data"
    },
    {
     "data": {
      "text/html": [
       "\n",
       "            <div>\n",
       "                <div><b>Assistant:</b></div>\n",
       "                <div><p>The current temperature in Tehran is 13.6°C. If you need more information or have any other questions, feel free to ask!</p></div>\n",
       "            </div>\n",
       "        "
      ],
      "text/plain": [
       "<IPython.core.display.HTML object>"
      ]
     },
     "metadata": {},
     "output_type": "display_data"
    },
    {
     "name": "stdout",
     "output_type": "stream",
     "text": [
      "Chat ended.\n"
     ]
    }
   ],
   "source": [
    "import chat_assistant\n",
    "\n",
    "developer_prompt = \"\"\"\n",
    "You help users find out the weather in their cities. \n",
    "If they didn't specify a city, ask them. Make sure we always use a city.\n",
    "\"\"\".strip()\n",
    "\n",
    "chat_interface = chat_assistant.ChatInterface()\n",
    "\n",
    "chat = chat_assistant.ChatAssistant(\n",
    "    tools=mcp_tools,\n",
    "    developer_prompt=developer_prompt,\n",
    "    chat_interface=chat_interface,\n",
    "    client=chat_client\n",
    ")\n",
    "\n",
    "chat.run()"
   ]
  }
 ],
 "metadata": {
  "kernelspec": {
   "display_name": "Python (Finespresso)",
   "language": "python",
   "name": "finespresso"
  },
  "language_info": {
   "codemirror_mode": {
    "name": "ipython",
    "version": 3
   },
   "file_extension": ".py",
   "mimetype": "text/x-python",
   "name": "python",
   "nbconvert_exporter": "python",
   "pygments_lexer": "ipython3",
   "version": "3.11.8"
  }
 },
 "nbformat": 4,
 "nbformat_minor": 2
}
