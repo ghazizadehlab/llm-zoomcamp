{
 "cells": [
  {
   "cell_type": "code",
   "execution_count": 1,
   "metadata": {},
   "outputs": [],
   "source": [
    "from fastembed import TextEmbedding\n",
    "from qdrant_client import QdrantClient, models"
   ]
  },
  {
   "cell_type": "code",
   "execution_count": 2,
   "metadata": {},
   "outputs": [],
   "source": [
    "qd_client = QdrantClient(\"http://localhost:6333\")"
   ]
  },
  {
   "cell_type": "code",
   "execution_count": 3,
   "metadata": {},
   "outputs": [],
   "source": [
    "EMBEDDING_DIMENSIONALITY = 512\n",
    "model_handle = \"jinaai/jina-embeddings-v2-small-en\""
   ]
  },
  {
   "cell_type": "code",
   "execution_count": 4,
   "metadata": {},
   "outputs": [
    {
     "data": {
      "application/vnd.jupyter.widget-view+json": {
       "model_id": "1ff18a79eadc4eb9984a51cf88872875",
       "version_major": 2,
       "version_minor": 0
      },
      "text/plain": [
       "Fetching 5 files:   0%|          | 0/5 [00:00<?, ?it/s]"
      ]
     },
     "metadata": {},
     "output_type": "display_data"
    },
    {
     "data": {
      "application/vnd.jupyter.widget-view+json": {
       "model_id": "a433933f620e46b180b59b7457478a85",
       "version_major": 2,
       "version_minor": 0
      },
      "text/plain": [
       "special_tokens_map.json:   0%|          | 0.00/125 [00:00<?, ?B/s]"
      ]
     },
     "metadata": {},
     "output_type": "display_data"
    },
    {
     "data": {
      "application/vnd.jupyter.widget-view+json": {
       "model_id": "7566ade164cd44aaa6398d28e2962755",
       "version_major": 2,
       "version_minor": 0
      },
      "text/plain": [
       "tokenizer_config.json:   0%|          | 0.00/367 [00:00<?, ?B/s]"
      ]
     },
     "metadata": {},
     "output_type": "display_data"
    },
    {
     "data": {
      "application/vnd.jupyter.widget-view+json": {
       "model_id": "525d89a1bd0149f0b8402fcbafd65b9c",
       "version_major": 2,
       "version_minor": 0
      },
      "text/plain": [
       "tokenizer.json: 0.00B [00:00, ?B/s]"
      ]
     },
     "metadata": {},
     "output_type": "display_data"
    },
    {
     "data": {
      "application/vnd.jupyter.widget-view+json": {
       "model_id": "2d1a48ed308a47e68e5b81f55666ed04",
       "version_major": 2,
       "version_minor": 0
      },
      "text/plain": [
       "config.json: 0.00B [00:00, ?B/s]"
      ]
     },
     "metadata": {},
     "output_type": "display_data"
    },
    {
     "data": {
      "application/vnd.jupyter.widget-view+json": {
       "model_id": "192bfb6c149743a5b7cf572e7e0d2694",
       "version_major": 2,
       "version_minor": 0
      },
      "text/plain": [
       "onnx/model.onnx:   0%|          | 0.00/130M [00:00<?, ?B/s]"
      ]
     },
     "metadata": {},
     "output_type": "display_data"
    }
   ],
   "source": [
    "# Q1 \n",
    "documents: list[str] = [\n",
    "    \"I just discovered the course. Can I join now?\"\n",
    "]\n",
    "model = TextEmbedding(model_name=model_handle)\n",
    "embeddings = list(model.embed(documents))"
   ]
  },
  {
   "cell_type": "code",
   "execution_count": 11,
   "metadata": {},
   "outputs": [
    {
     "data": {
      "application/vnd.jupyter.widget-view+json": {
       "model_id": "4e38212d58ab443eb5e65c56f885a153",
       "version_major": 2,
       "version_minor": 0
      },
      "text/plain": [
       "Fetching 5 files:   0%|          | 0/5 [00:00<?, ?it/s]"
      ]
     },
     "metadata": {},
     "output_type": "display_data"
    },
    {
     "data": {
      "application/vnd.jupyter.widget-view+json": {
       "model_id": "d9525ef533e14f168ba7d50d20f2523c",
       "version_major": 2,
       "version_minor": 0
      },
      "text/plain": [
       "config.json:   0%|          | 0.00/701 [00:00<?, ?B/s]"
      ]
     },
     "metadata": {},
     "output_type": "display_data"
    },
    {
     "data": {
      "application/vnd.jupyter.widget-view+json": {
       "model_id": "40e63549c4be4c1e84af574ccfae5621",
       "version_major": 2,
       "version_minor": 0
      },
      "text/plain": [
       "tokenizer_config.json:   0%|          | 0.00/366 [00:00<?, ?B/s]"
      ]
     },
     "metadata": {},
     "output_type": "display_data"
    },
    {
     "data": {
      "application/vnd.jupyter.widget-view+json": {
       "model_id": "f0aac687c932472ba206b9c4a947cca2",
       "version_major": 2,
       "version_minor": 0
      },
      "text/plain": [
       "tokenizer.json: 0.00B [00:00, ?B/s]"
      ]
     },
     "metadata": {},
     "output_type": "display_data"
    },
    {
     "data": {
      "application/vnd.jupyter.widget-view+json": {
       "model_id": "6e619a6b9ce845b98876b92343fb2b94",
       "version_major": 2,
       "version_minor": 0
      },
      "text/plain": [
       "special_tokens_map.json:   0%|          | 0.00/125 [00:00<?, ?B/s]"
      ]
     },
     "metadata": {},
     "output_type": "display_data"
    },
    {
     "data": {
      "application/vnd.jupyter.widget-view+json": {
       "model_id": "a30feacfdaa24c21ae0392bdbb29a14d",
       "version_major": 2,
       "version_minor": 0
      },
      "text/plain": [
       "model_optimized.onnx:   0%|          | 0.00/133M [00:00<?, ?B/s]"
      ]
     },
     "metadata": {},
     "output_type": "display_data"
    },
    {
     "data": {
      "text/plain": [
       "(384,)"
      ]
     },
     "execution_count": 11,
     "metadata": {},
     "output_type": "execute_result"
    }
   ],
   "source": [
    "# Q5 enbedding with BAAI\n",
    "query=\"I just discovered the course. Can I join now?\"\n",
    "model_handle = \"BAAI/bge-small-en\"\n",
    "model = TextEmbedding(model_name=model_handle)\n",
    "embeddings = list(model.embed(query))\n",
    "embeddings[0].shape\n",
    "\n",
    "\n",
    "\n"
   ]
  },
  {
   "cell_type": "code",
   "execution_count": 12,
   "metadata": {},
   "outputs": [],
   "source": [
    "import requests \n",
    "\n",
    "docs_url = 'https://github.com/alexeygrigorev/llm-rag-workshop/raw/main/notebooks/documents.json'\n",
    "docs_response = requests.get(docs_url)\n",
    "documents_raw = docs_response.json()\n"
   ]
  },
  {
   "cell_type": "code",
   "execution_count": 32,
   "metadata": {},
   "outputs": [
    {
     "name": "stdout",
     "output_type": "stream",
     "text": [
      "Type of documents_raw: <class 'list'>\n",
      "Length of documents_raw: 3\n",
      "\n",
      "Fields in first document:\n",
      "- course\n",
      "- documents\n",
      "\n",
      "Fields in second document:\n",
      "- text\n",
      "- section\n",
      "- question\n",
      "- course\n"
     ]
    }
   ],
   "source": [
    "print(\"Type of documents_raw:\", type(documents_raw))\n",
    "print(\"Length of documents_raw:\", len(documents_raw))\n",
    "print(\"\\nFields in first document:\")\n",
    "for key in documents_raw[0].keys():\n",
    "    print(f\"- {key}\")\n",
    "print(\"\\nFields in second document:\")\n",
    "for key in documents_raw[0]['documents'][0].keys():\n",
    "    print(f\"- {key}\")"
   ]
  },
  {
   "cell_type": "code",
   "execution_count": 34,
   "metadata": {},
   "outputs": [
    {
     "data": {
      "text/plain": [
       "{'text': \"The purpose of this document is to capture frequently asked technical questions\\nThe exact day and hour of the course will be 15th Jan 2024 at 17h00. The course will start with the first  “Office Hours'' live.1\\nSubscribe to course public Google Calendar (it works from Desktop only).\\nRegister before the course starts using this link.\\nJoin the course Telegram channel with announcements.\\nDon’t forget to register in DataTalks.Club's Slack and join the channel.\",\n",
       " 'section': 'General course-related questions',\n",
       " 'question': 'Course - When will the course start?',\n",
       " 'course': 'data-engineering-zoomcamp'}"
      ]
     },
     "execution_count": 34,
     "metadata": {},
     "output_type": "execute_result"
    }
   ],
   "source": [
    "documents_raw[0]['documents'][0]"
   ]
  },
  {
   "cell_type": "code",
   "execution_count": 35,
   "metadata": {},
   "outputs": [],
   "source": [
    "\n",
    "\n",
    "documents = []\n",
    "\n",
    "for course in documents_raw:\n",
    "    course_name = course['course']\n",
    "    # if course_name != 'machine-learning-zoomcamp':\n",
    "    #     continue\n",
    "    #  documents = list(map(lambda  x: course_name+' '+x['question']+' '+x['text'], course['documents']))\n",
    "\n",
    "    for doc in course['documents']:\n",
    "      \n",
    "        documents.append(doc)"
   ]
  },
  {
   "cell_type": "code",
   "execution_count": 37,
   "metadata": {},
   "outputs": [
    {
     "data": {
      "text/plain": [
       "{'text': \"The purpose of this document is to capture frequently asked technical questions\\nThe exact day and hour of the course will be 15th Jan 2024 at 17h00. The course will start with the first  “Office Hours'' live.1\\nSubscribe to course public Google Calendar (it works from Desktop only).\\nRegister before the course starts using this link.\\nJoin the course Telegram channel with announcements.\\nDon’t forget to register in DataTalks.Club's Slack and join the channel.\",\n",
       " 'section': 'General course-related questions',\n",
       " 'question': 'Course - When will the course start?',\n",
       " 'course': 'data-engineering-zoomcamp'}"
      ]
     },
     "execution_count": 37,
     "metadata": {},
     "output_type": "execute_result"
    }
   ],
   "source": [
    "documents[0]"
   ]
  },
  {
   "cell_type": "code",
   "execution_count": 39,
   "metadata": {},
   "outputs": [
    {
     "data": {
      "text/plain": [
       "True"
      ]
     },
     "execution_count": 39,
     "metadata": {},
     "output_type": "execute_result"
    }
   ],
   "source": [
    "collection_name = \"zoomcamp-faq\"\n",
    "EMBEDDING_DIMENSIONALITY=384\n",
    "\n",
    "# Check if collection exists and delete it\n",
    "try:\n",
    "    qd_client.get_collection(collection_name=collection_name)\n",
    "    qd_client.delete_collection(collection_name=collection_name)\n",
    "except:\n",
    "    pass\n",
    "\n",
    "# Create new collection\n",
    "qd_client.create_collection(\n",
    "    collection_name=collection_name,\n",
    "    vectors_config=models.VectorParams(\n",
    "        size=EMBEDDING_DIMENSIONALITY,\n",
    "        distance=models.Distance.COSINE\n",
    "    )\n",
    ")"
   ]
  },
  {
   "cell_type": "code",
   "execution_count": 40,
   "metadata": {},
   "outputs": [
    {
     "data": {
      "text/plain": [
       "UpdateResult(operation_id=1, status=<UpdateStatus.COMPLETED: 'completed'>)"
      ]
     },
     "execution_count": 40,
     "metadata": {},
     "output_type": "execute_result"
    }
   ],
   "source": [
    "qd_client.create_payload_index(\n",
    "    collection_name=collection_name,\n",
    "    field_name=\"course\",\n",
    "    field_schema=\"keyword\"\n",
    ")"
   ]
  },
  {
   "cell_type": "code",
   "execution_count": 41,
   "metadata": {},
   "outputs": [],
   "source": [
    "points = []\n",
    "\n",
    "for i, doc in enumerate(documents):\n",
    "    text = doc['question'] + ' ' + doc['text']\n",
    "    vector = models.Document(text=text, model=model_handle)\n",
    "    point = models.PointStruct(\n",
    "        id=i,\n",
    "        vector=vector,\n",
    "        payload=doc\n",
    "    )\n",
    "    points.append(point)"
   ]
  },
  {
   "cell_type": "code",
   "execution_count": 43,
   "metadata": {},
   "outputs": [
    {
     "data": {
      "text/plain": [
       "PointStruct(id=0, vector=Document(text=\"Course - When will the course start? The purpose of this document is to capture frequently asked technical questions\\nThe exact day and hour of the course will be 15th Jan 2024 at 17h00. The course will start with the first  “Office Hours'' live.1\\nSubscribe to course public Google Calendar (it works from Desktop only).\\nRegister before the course starts using this link.\\nJoin the course Telegram channel with announcements.\\nDon’t forget to register in DataTalks.Club's Slack and join the channel.\", model='BAAI/bge-small-en', options=None), payload={'text': \"The purpose of this document is to capture frequently asked technical questions\\nThe exact day and hour of the course will be 15th Jan 2024 at 17h00. The course will start with the first  “Office Hours'' live.1\\nSubscribe to course public Google Calendar (it works from Desktop only).\\nRegister before the course starts using this link.\\nJoin the course Telegram channel with announcements.\\nDon’t forget to register in DataTalks.Club's Slack and join the channel.\", 'section': 'General course-related questions', 'question': 'Course - When will the course start?', 'course': 'data-engineering-zoomcamp'})"
      ]
     },
     "execution_count": 43,
     "metadata": {},
     "output_type": "execute_result"
    }
   ],
   "source": [
    "points[0]"
   ]
  },
  {
   "cell_type": "code",
   "execution_count": 42,
   "metadata": {},
   "outputs": [
    {
     "data": {
      "text/plain": [
       "UpdateResult(operation_id=2, status=<UpdateStatus.COMPLETED: 'completed'>)"
      ]
     },
     "execution_count": 42,
     "metadata": {},
     "output_type": "execute_result"
    }
   ],
   "source": [
    "qd_client.upsert(\n",
    "    collection_name=collection_name,\n",
    "    points=points\n",
    ")"
   ]
  },
  {
   "cell_type": "code",
   "execution_count": 44,
   "metadata": {},
   "outputs": [],
   "source": [
    "course = 'machine-learning-zoomcamp'\n",
    "query_points = qd_client.query_points(\n",
    "    collection_name=collection_name,\n",
    "    query=models.Document(\n",
    "        text=query,\n",
    "        model=model_handle \n",
    "    ),\n",
    "    query_filter=models.Filter( \n",
    "        must=[\n",
    "            models.FieldCondition(\n",
    "                key=\"course\",\n",
    "                match=models.MatchValue(value=course)\n",
    "            )\n",
    "        ]\n",
    "    ),\n",
    "    limit=5,\n",
    "    with_payload=True\n",
    ")\n",
    "\n",
    "results = []\n",
    "\n",
    "for point in query_points.points:\n",
    "    results.append(point.payload)"
   ]
  },
  {
   "cell_type": "code",
   "execution_count": 49,
   "metadata": {},
   "outputs": [
    {
     "name": "stdout",
     "output_type": "stream",
     "text": [
      "Yes, you can. You won’t be able to submit some of the homeworks, but you can still take part in the course.\n",
      "In order to get a certificate, you need to submit 2 out of 3 course projects and review 3 peers’ Projects by the deadline. It means that if you join the course at the end of November and manage to work on two projects, you will still be eligible for a certificate.\n"
     ]
    }
   ],
   "source": [
    "# Q6 score of the first point\n",
    "print(query_points.points[0].payload.get('text'))"
   ]
  },
  {
   "cell_type": "code",
   "execution_count": 96,
   "metadata": {},
   "outputs": [],
   "source": [
    "def vector_search(query,course=None):\n",
    "    print('vector_search is used')\n",
    "    \n",
    "    query_params = {\n",
    "        'collection_name': collection_name,\n",
    "        'query': models.Document(\n",
    "            text=query,\n",
    "            model=model_handle \n",
    "        ),\n",
    "        'limit': 5,\n",
    "        'with_payload': True\n",
    "    }\n",
    "    \n",
    "    if course is not None:\n",
    "        query_params['query_filter'] = models.Filter(\n",
    "            must=[\n",
    "                models.FieldCondition(\n",
    "                    key=\"course\",\n",
    "                    match=models.MatchValue(value=course)\n",
    "                )\n",
    "            ]\n",
    "        )\n",
    "    \n",
    "    query_points = qd_client.query_points(**query_params)\n",
    "    \n",
    "    results = []\n",
    "    \n",
    "    for point in query_points.points:\n",
    "        results.append(point.payload)\n",
    "    \n",
    "    return results"
   ]
  },
  {
   "cell_type": "code",
   "execution_count": 59,
   "metadata": {},
   "outputs": [
    {
     "name": "stdout",
     "output_type": "stream",
     "text": [
      "vector_search is used\n"
     ]
    },
    {
     "data": {
      "text/plain": [
       "[{'text': 'Here',\n",
       "  'section': 'Module 4: Deployment',\n",
       "  'question': 'Where is the FAQ for Prefect questions?',\n",
       "  'course': 'mlops-zoomcamp'},\n",
       " {'text': 'This is most likely that you interchanged the first step of the multiplication\\nYou used  instead of\\nAdded by Emmanuel Ikpesu',\n",
       "  'section': '1. Introduction to Machine Learning',\n",
       "  'question': 'Question 7: FINAL MULTIPLICATION not having 5 column',\n",
       "  'course': 'machine-learning-zoomcamp'},\n",
       " {'text': 'Ans: about 7GB free for all the containers to be provisioned and then the psql still needs to run and ingest the taxi data, so maybe 10gb in total?',\n",
       "  'section': 'Workshop 2 - RisingWave',\n",
       "  'question': 'Setup - Qn: How much free disk space should we have? [source]',\n",
       "  'course': 'data-engineering-zoomcamp'},\n",
       " {'text': 'TODO',\n",
       "  'section': '10. Kubernetes and TensorFlow Serving',\n",
       "  'question': 'How to get started with Week 10?',\n",
       "  'course': 'machine-learning-zoomcamp'},\n",
       " {'text': 'TODO',\n",
       "  'section': '8. Neural Networks and Deep Learning',\n",
       "  'question': 'How to get started with Week 8?',\n",
       "  'course': 'machine-learning-zoomcamp'}]"
      ]
     },
     "execution_count": 59,
     "metadata": {},
     "output_type": "execute_result"
    }
   ],
   "source": [
    "vector_search('how many questions are in the FAQ?')"
   ]
  },
  {
   "cell_type": "code",
   "execution_count": 61,
   "metadata": {},
   "outputs": [
    {
     "name": "stdout",
     "output_type": "stream",
     "text": [
      "Why did the scarecrow win an award? \n",
      "\n",
      "Because he was outstanding in his field!\n"
     ]
    }
   ],
   "source": [
    "from dotenv import load_dotenv\n",
    "from openai import OpenAI\n",
    "load_dotenv()  # defaults to .env in the same directory\n",
    "\n",
    "client = OpenAI()\n",
    "\n",
    "response = client.chat.completions.create(\n",
    "    model=\"gpt-4o-mini\",\n",
    "    messages=[{\"role\": \"user\", \"content\": \"tell me a joke\"}]\n",
    ")\n",
    "print(response.choices[0].message.content)"
   ]
  },
  {
   "cell_type": "code",
   "execution_count": 62,
   "metadata": {},
   "outputs": [
    {
     "name": "stderr",
     "output_type": "stream",
     "text": [
      "huggingface/tokenizers: The current process just got forked, after parallelism has already been used. Disabling parallelism to avoid deadlocks...\n",
      "To disable this warning, you can either:\n",
      "\t- Avoid using `tokenizers` before the fork if possible\n",
      "\t- Explicitly set the environment variable TOKENIZERS_PARALLELISM=(true | false)\n"
     ]
    },
    {
     "name": "stdout",
     "output_type": "stream",
     "text": [
      "--2025-07-03 14:18:28--  https://raw.githubusercontent.com/alexeygrigorev/rag-agents-workshop/refs/heads/main/chat_assistant.py\n",
      "Resolving raw.githubusercontent.com (raw.githubusercontent.com)... 2606:50c0:8002::154, 2606:50c0:8003::154, 2606:50c0:8000::154, ...\n",
      "Connecting to raw.githubusercontent.com (raw.githubusercontent.com)|2606:50c0:8002::154|:443... connected.\n",
      "HTTP request sent, awaiting response... 200 OK\n",
      "Length: 3485 (3.4K) [text/plain]\n",
      "Saving to: ‘chat_assistant.py’\n",
      "\n",
      "chat_assistant.py   100%[===================>]   3.40K  --.-KB/s    in 0s      \n",
      "\n",
      "2025-07-03 14:18:28 (7.62 MB/s) - ‘chat_assistant.py’ saved [3485/3485]\n",
      "\n"
     ]
    }
   ],
   "source": [
    "!wget https://raw.githubusercontent.com/alexeygrigorev/rag-agents-workshop/refs/heads/main/chat_assistant.py"
   ]
  },
  {
   "cell_type": "code",
   "execution_count": 74,
   "metadata": {},
   "outputs": [],
   "source": [
    "developer_prompt = \"\"\"\n",
    "You're a course teaching assistant. \n",
    "You're given a question from a course student and your task is to answer it.\n",
    "\n",
    "Use FAQ if your own knowledge is not sufficient to answer the question.\n",
    "\n",
    "At the end of each response, ask the user a follow up question based on your answer.\n",
    "\"\"\".strip()"
   ]
  },
  {
   "cell_type": "code",
   "execution_count": 89,
   "metadata": {},
   "outputs": [
    {
     "name": "stdout",
     "output_type": "stream",
     "text": [
      "None\n"
     ]
    }
   ],
   "source": [
    "search_tool = {\n",
    "    \"type\": \"function\",\n",
    "    \"function\": {\n",
    "        \"name\": \"vector_search\",\n",
    "        \"description\": \"Search for documents in the knowledge base\",\n",
    "        \"parameters\": {\n",
    "            \"type\": \"object\",\n",
    "            \"properties\": {\n",
    "                \"query\": {\n",
    "                    \"type\": \"string\",\n",
    "                    \"description\": \"The search query\"\n",
    "                }\n",
    "            },\n",
    "            \"required\": [\"query\"]\n",
    "        }\n",
    "    }\n",
    "}\n",
    "\n",
    "tools = [search_tool]\n",
    "\n",
    "chat_messages = [\n",
    "    {\"role\": \"developer\", \"content\": developer_prompt},\n",
    "    {\"role\": \"user\", \"content\": query}\n",
    "]\n",
    "\n",
    "response = client.chat.completions.create(\n",
    "    model='gpt-4o-mini',\n",
    "    messages=chat_messages,\n",
    "    tools=tools\n",
    ")\n",
    "print(response.choices[0].message.content)"
   ]
  },
  {
   "cell_type": "code",
   "execution_count": 98,
   "metadata": {},
   "outputs": [],
   "source": [
    "import importlib\n",
    "import chat_assistant\n",
    "importlib.reload(chat_assistant)\n",
    "\n",
    "tools = chat_assistant.Tools()\n"
   ]
  },
  {
   "cell_type": "code",
   "execution_count": 99,
   "metadata": {},
   "outputs": [
    {
     "data": {
      "text/plain": [
       "[{'type': 'function',\n",
       "  'function': {'name': 'vector_search',\n",
       "   'description': 'Search for documents in the knowledge base',\n",
       "   'parameters': {'type': 'object',\n",
       "    'properties': {'query': {'type': 'string',\n",
       "      'description': 'The search query'}},\n",
       "    'required': ['query']}}}]"
      ]
     },
     "execution_count": 99,
     "metadata": {},
     "output_type": "execute_result"
    }
   ],
   "source": [
    "tools.add_tool(vector_search, search_tool)\n",
    "\n",
    "tools.get_tools()\n"
   ]
  },
  {
   "cell_type": "code",
   "execution_count": 100,
   "metadata": {},
   "outputs": [
    {
     "name": "stdout",
     "output_type": "stream",
     "text": [
      "vector_search is used\n"
     ]
    },
    {
     "data": {
      "text/html": [
       "\n",
       "            <details>\n",
       "            <summary>Function call: <tt>vector_search({\"query\":\"how to sign up for the course\"})</tt></summary>\n",
       "            <div>\n",
       "                <b>Call</b>\n",
       "                <pre>ChatCompletionMessageToolCall(id='call_3PvLBmQNyGTeBH2GR8Ho5Hka', function=Function(arguments='{\"query\":\"how to sign up for the course\"}', name='vector_search'), type='function')</pre>\n",
       "            </div>\n",
       "            <div>\n",
       "                <b>Output</b>\n",
       "                <pre>[\n",
       "  {\n",
       "    \"text\": \"TODO\",\n",
       "    \"section\": \"10. Kubernetes and TensorFlow Serving\",\n",
       "    \"question\": \"How to get started with Week 10?\",\n",
       "    \"course\": \"machine-learning-zoomcamp\"\n",
       "  },\n",
       "  {\n",
       "    \"text\": \"TODO\",\n",
       "    \"section\": \"9. Serverless Deep Learning\",\n",
       "    \"question\": \"How to get started with Week 9?\",\n",
       "    \"course\": \"machine-learning-zoomcamp\"\n",
       "  },\n",
       "  {\n",
       "    \"text\": \"TODO\",\n",
       "    \"section\": \"8. Neural Networks and Deep Learning\",\n",
       "    \"question\": \"How to get started with Week 8?\",\n",
       "    \"course\": \"machine-learning-zoomcamp\"\n",
       "  },\n",
       "  {\n",
       "    \"text\": \"Approximately 4 months, but may take more if you want to do some extra activities (an extra project, an article, etc)\",\n",
       "    \"section\": \"General course-related questions\",\n",
       "    \"question\": \"How long is the course?\",\n",
       "    \"course\": \"machine-learning-zoomcamp\"\n",
       "  },\n",
       "  {\n",
       "    \"text\": \"Yes, you can. You won\\u2019t be able to submit some of the homeworks, but you can still take part in the course.\\nIn order to get a certificate, you need to submit 2 out of 3 course projects and review 3 peers\\u2019 Projects by the deadline. It means that if you join the course at the end of November and manage to work on two projects, you will still be eligible for a certificate.\",\n",
       "    \"section\": \"General course-related questions\",\n",
       "    \"question\": \"The course has already started. Can I still join it?\",\n",
       "    \"course\": \"machine-learning-zoomcamp\"\n",
       "  }\n",
       "]</pre>\n",
       "            </div>\n",
       "            \n",
       "            </details>\n",
       "        "
      ],
      "text/plain": [
       "<IPython.core.display.HTML object>"
      ]
     },
     "metadata": {},
     "output_type": "display_data"
    },
    {
     "data": {
      "text/html": [
       "\n",
       "            <div>\n",
       "                <div><b>Assistant:</b></div>\n",
       "                <div><p>I couldn't find specific information on how to sign up for the course. However, generally, you would typically find a \"Sign Up\" or \"Register\" button on the course's website. </p>\n",
       "<p>If you provide more details about the specific course or platform you are inquiring about, I may be able to assist you further.</p>\n",
       "<p>In the meantime, do you know which course you are trying to sign up for?</p></div>\n",
       "            </div>\n",
       "        "
      ],
      "text/plain": [
       "<IPython.core.display.HTML object>"
      ]
     },
     "metadata": {},
     "output_type": "display_data"
    },
    {
     "name": "stdout",
     "output_type": "stream",
     "text": [
      "vector_search is used\n"
     ]
    },
    {
     "data": {
      "text/html": [
       "\n",
       "            <details>\n",
       "            <summary>Function call: <tt>vector_search({\"query\":\"tips for success in module 1 machine ...)</tt></summary>\n",
       "            <div>\n",
       "                <b>Call</b>\n",
       "                <pre>ChatCompletionMessageToolCall(id='call_mZ6r1dStGSmNAB9k9ZT97qOb', function=Function(arguments='{\"query\":\"tips for success in module 1 machine learning zoomcamp\"}', name='vector_search'), type='function')</pre>\n",
       "            </div>\n",
       "            <div>\n",
       "                <b>Output</b>\n",
       "                <pre>[\n",
       "  {\n",
       "    \"text\": \"Refer to https://github.com/DataTalksClub/machine-learning-zoomcamp/blob/master/01-intro/06-environment.md\\n(added by Rileen Sinha)\",\n",
       "    \"section\": \"Miscellaneous\",\n",
       "    \"question\": \"None of the videos have how to install the environment in Mac, does someone have instructions for Mac with M1 chip?\",\n",
       "    \"course\": \"machine-learning-zoomcamp\"\n",
       "  },\n",
       "  {\n",
       "    \"text\": \"GitHub - DataTalksClub data-engineering-zoomcamp#prerequisites\",\n",
       "    \"section\": \"General course-related questions\",\n",
       "    \"question\": \"Course - What are the prerequisites for this course?\",\n",
       "    \"course\": \"data-engineering-zoomcamp\"\n",
       "  },\n",
       "  {\n",
       "    \"text\": \"Machine Learning Zoomcamp FAQ\\nThe purpose of this document is to capture frequently asked technical questions.\\nWe did this for our data engineering course and it worked quite well. Check this document for inspiration on how to structure your questions and answers:\\nData Engineering Zoomcamp FAQ\\nIn the course GitHub repository there\\u2019s a link. Here it is: https://airtable.com/shryxwLd0COOEaqXo\\nwork\",\n",
       "    \"section\": \"General course-related questions\",\n",
       "    \"question\": \"How do I sign up?\",\n",
       "    \"course\": \"machine-learning-zoomcamp\"\n",
       "  },\n",
       "  {\n",
       "    \"text\": \"Yes to both! check out this document: https://github.com/DataTalksClub/data-engineering-zoomcamp/blob/main/awesome-data-engineering.md\",\n",
       "    \"section\": \"General course-related questions\",\n",
       "    \"question\": \"Any books or additional resources you recommend?\",\n",
       "    \"course\": \"data-engineering-zoomcamp\"\n",
       "  },\n",
       "  {\n",
       "    \"text\": \"See a list of datasets here: https://github.com/DataTalksClub/data-engineering-zoomcamp/blob/main/week_7_project/datasets.md\",\n",
       "    \"section\": \"Project\",\n",
       "    \"question\": \"Does anyone know nice and relatively large datasets?\",\n",
       "    \"course\": \"data-engineering-zoomcamp\"\n",
       "  }\n",
       "]</pre>\n",
       "            </div>\n",
       "            \n",
       "            </details>\n",
       "        "
      ],
      "text/plain": [
       "<IPython.core.display.HTML object>"
      ]
     },
     "metadata": {},
     "output_type": "display_data"
    },
    {
     "data": {
      "text/html": [
       "\n",
       "            <div>\n",
       "                <div><b>Assistant:</b></div>\n",
       "                <div><p>To do well in Module 1 of the Machine Learning Zoomcamp, here are some general tips:</p>\n",
       "<ol>\n",
       "<li>\n",
       "<p><strong>Familiarize Yourself with the Course Materials</strong>: Make sure to watch all the provided videos and read the accompanying materials thoroughly. This will help you grasp the foundational concepts.</p>\n",
       "</li>\n",
       "<li>\n",
       "<p><strong>Practice Environment Setup</strong>: If you encounter issues with setting up your environment (especially if you're using a Mac with an M1 chip), refer to the specific instructions available <a href=\"https://github.com/DataTalksClub/machine-learning-zoomcamp/blob/master/01-intro/06-environment.md\">here</a>.</p>\n",
       "</li>\n",
       "<li>\n",
       "<p><strong>Engage with the Community</strong>: Join course forums or discussion groups. Engaging with peers can provide valuable insights and clarifications.</p>\n",
       "</li>\n",
       "<li>\n",
       "<p><strong>Follow Along with Examples</strong>: Try to replicate examples shown in the lectures on your local setup. Practice is key in mastering machine learning concepts. </p>\n",
       "</li>\n",
       "<li>\n",
       "<p><strong>Use Additional Resources</strong>: If you are looking for books or additional resources, it's often helpful to check GitHub repositories or educational platforms for supplementary materials.</p>\n",
       "</li>\n",
       "</ol>\n",
       "<p>If you have any specific areas in Module 1 that you are struggling with, feel free to share, and I might be able to provide more targeted advice!</p>\n",
       "<p>What specific topics in Module 1 are you most interested in mastering?</p></div>\n",
       "            </div>\n",
       "        "
      ],
      "text/plain": [
       "<IPython.core.display.HTML object>"
      ]
     },
     "metadata": {},
     "output_type": "display_data"
    },
    {
     "name": "stdout",
     "output_type": "stream",
     "text": [
      "vector_search is used\n"
     ]
    },
    {
     "data": {
      "text/html": [
       "\n",
       "            <details>\n",
       "            <summary>Function call: <tt>vector_search({\"query\":\"number of questions in the FAQ machin...)</tt></summary>\n",
       "            <div>\n",
       "                <b>Call</b>\n",
       "                <pre>ChatCompletionMessageToolCall(id='call_MAJuOQS2zEoYBNTgOC2wCDcv', function=Function(arguments='{\"query\":\"number of questions in the FAQ machine learning zoomcamp\"}', name='vector_search'), type='function')</pre>\n",
       "            </div>\n",
       "            <div>\n",
       "                <b>Output</b>\n",
       "                <pre>[\n",
       "  {\n",
       "    \"text\": \"MLOps Zoomcamp FAQ\\nThe purpose of this document is to capture frequently asked technical questions.\\nWe did this for our data engineering course, and it worked quite well. Check this document for inspiration on how to structure your questions and answers:\\nData Engineering Zoomcamp FAQ\\n[Problem description]\\n[Solution description]\\n(optional) Added by Name\",\n",
       "    \"section\": \"+-General course questions\",\n",
       "    \"question\": \"Format for questions: [Problem title]\",\n",
       "    \"course\": \"mlops-zoomcamp\"\n",
       "  },\n",
       "  {\n",
       "    \"text\": \"Machine Learning Zoomcamp FAQ\\nThe purpose of this document is to capture frequently asked technical questions.\\nWe did this for our data engineering course and it worked quite well. Check this document for inspiration on how to structure your questions and answers:\\nData Engineering Zoomcamp FAQ\\nIn the course GitHub repository there\\u2019s a link. Here it is: https://airtable.com/shryxwLd0COOEaqXo\\nwork\",\n",
       "    \"section\": \"General course-related questions\",\n",
       "    \"question\": \"How do I sign up?\",\n",
       "    \"course\": \"machine-learning-zoomcamp\"\n",
       "  },\n",
       "  {\n",
       "    \"text\": \"See a list of datasets here: https://github.com/DataTalksClub/data-engineering-zoomcamp/blob/main/week_7_project/datasets.md\",\n",
       "    \"section\": \"Project\",\n",
       "    \"question\": \"Does anyone know nice and relatively large datasets?\",\n",
       "    \"course\": \"data-engineering-zoomcamp\"\n",
       "  },\n",
       "  {\n",
       "    \"text\": \"Here\",\n",
       "    \"section\": \"Module 4: Deployment\",\n",
       "    \"question\": \"Where is the FAQ for Prefect questions?\",\n",
       "    \"course\": \"mlops-zoomcamp\"\n",
       "  },\n",
       "  {\n",
       "    \"text\": \"GitHub - DataTalksClub data-engineering-zoomcamp#prerequisites\",\n",
       "    \"section\": \"General course-related questions\",\n",
       "    \"question\": \"Course - What are the prerequisites for this course?\",\n",
       "    \"course\": \"data-engineering-zoomcamp\"\n",
       "  }\n",
       "]</pre>\n",
       "            </div>\n",
       "            \n",
       "            </details>\n",
       "        "
      ],
      "text/plain": [
       "<IPython.core.display.HTML object>"
      ]
     },
     "metadata": {},
     "output_type": "display_data"
    },
    {
     "data": {
      "text/html": [
       "\n",
       "            <div>\n",
       "                <div><b>Assistant:</b></div>\n",
       "                <div><p>I couldn't locate the exact number of questions listed in the FAQ for the Machine Learning Zoomcamp. However, it appears that the FAQ contains various questions related to course sign-ups, prerequisites, and other general inquiries. </p>\n",
       "<p>To get the most accurate count, I would recommend checking the official course GitHub repository where the FAQ may be documented.</p>\n",
       "<p>Do you want me to help you find the link to the official FAQ page?</p></div>\n",
       "            </div>\n",
       "        "
      ],
      "text/plain": [
       "<IPython.core.display.HTML object>"
      ]
     },
     "metadata": {},
     "output_type": "display_data"
    },
    {
     "data": {
      "text/html": [
       "\n",
       "            <div>\n",
       "                <div><b>Assistant:</b></div>\n",
       "                <div><p>You can find the FAQ for the Machine Learning Zoomcamp in the course's GitHub repository. Here is the link to the document: <a href=\"https://airtable.com/shryxwLd0COOEaqXo\">Machine Learning Zoomcamp FAQ</a>.</p>\n",
       "<p>Feel free to explore it for detailed answers and information related to the course!</p>\n",
       "<p>Is there any specific question from the FAQ that you would like to know more about?</p></div>\n",
       "            </div>\n",
       "        "
      ],
      "text/plain": [
       "<IPython.core.display.HTML object>"
      ]
     },
     "metadata": {},
     "output_type": "display_data"
    },
    {
     "data": {
      "text/html": [
       "\n",
       "            <div>\n",
       "                <div><b>Assistant:</b></div>\n",
       "                <div><p>Thank you! I'm glad to hear that you're satisfied. If you have any more questions or need further assistance, feel free to ask!</p>\n",
       "<p>Is there anything else you would like to know about the course or any other topic?</p></div>\n",
       "            </div>\n",
       "        "
      ],
      "text/plain": [
       "<IPython.core.display.HTML object>"
      ]
     },
     "metadata": {},
     "output_type": "display_data"
    },
    {
     "data": {
      "text/html": [
       "\n",
       "            <div>\n",
       "                <div><b>Assistant:</b></div>\n",
       "                <div><p>Alright! If you ever have questions in the future, don't hesitate to reach out. Have a great day and enjoy your learning journey! </p>\n",
       "<p>Take care!</p></div>\n",
       "            </div>\n",
       "        "
      ],
      "text/plain": [
       "<IPython.core.display.HTML object>"
      ]
     },
     "metadata": {},
     "output_type": "display_data"
    },
    {
     "name": "stdout",
     "output_type": "stream",
     "text": [
      "Chat ended.\n"
     ]
    }
   ],
   "source": [
    "\n",
    "developer_prompt = \"\"\"\n",
    "You're a course teaching assistant. \n",
    "You're given a question from a course student and your task is to answer it.\n",
    "\n",
    "Use FAQ if your own knowledge is not sufficient to answer the question.\n",
    "\n",
    "At the end of each response, ask the user a follow up question based on your answer.\n",
    "\"\"\".strip()\n",
    "\n",
    "chat_interface = chat_assistant.ChatInterface()\n",
    "\n",
    "chat = chat_assistant.ChatAssistant(\n",
    "    tools=tools,\n",
    "    developer_prompt=developer_prompt,\n",
    "    chat_interface=chat_interface,\n",
    "    client=client\n",
    ")\n",
    "chat.run()"
   ]
  }
 ],
 "metadata": {
  "kernelspec": {
   "display_name": "Python (Finespresso)",
   "language": "python",
   "name": "finespresso"
  },
  "language_info": {
   "codemirror_mode": {
    "name": "ipython",
    "version": 3
   },
   "file_extension": ".py",
   "mimetype": "text/x-python",
   "name": "python",
   "nbconvert_exporter": "python",
   "pygments_lexer": "ipython3",
   "version": "3.11.8"
  }
 },
 "nbformat": 4,
 "nbformat_minor": 2
}
