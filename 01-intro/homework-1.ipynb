{
 "cells": [
  {
   "cell_type": "code",
   "execution_count": 1,
   "metadata": {},
   "outputs": [],
   "source": [
    "import minsearch \n",
    "import json\n",
    "from pprint import pprint \n",
    "\n",
    "\n",
    "\n"
   ]
  },
  {
   "cell_type": "code",
   "execution_count": 4,
   "metadata": {},
   "outputs": [
    {
     "name": "stdout",
     "output_type": "stream",
     "text": [
      "Why don't skeletons fight each other?\n",
      "\n",
      "They don't have the guts!\n"
     ]
    }
   ],
   "source": [
    "from dotenv import load_dotenv\n",
    "import openai\n",
    "import os\n",
    "from openai import OpenAI\n",
    "load_dotenv()  # defaults to .env in the same directory\n",
    "\n",
    "client = OpenAI()\n",
    "\n",
    "response = client.chat.completions.create(\n",
    "    model=\"gpt-4o\",\n",
    "    messages=[{\"role\": \"user\", \"content\": \"tell me a joke\"}]\n",
    ")\n",
    "print(response.choices[0].message.content)\n",
    "\n",
    "\n",
    "\n"
   ]
  },
  {
   "cell_type": "code",
   "execution_count": 140,
   "metadata": {},
   "outputs": [
    {
     "name": "stdout",
     "output_type": "stream",
     "text": [
      "{\n",
      "  \"name\" : \"35bc0b180d8a\",\n",
      "  \"cluster_name\" : \"docker-cluster\",\n",
      "  \"cluster_uuid\" : \"_eKjvkP7QROgLJfiRInGnw\",\n",
      "  \"version\" : {\n",
      "    \"number\" : \"8.17.6\",\n",
      "    \"build_flavor\" : \"default\",\n",
      "    \"build_type\" : \"docker\",\n",
      "    \"build_hash\" : \"dbcbbbd0bc4924cfeb28929dc05d82d662c527b7\",\n",
      "    \"build_date\" : \"2025-04-30T14:07:12.231372970Z\",\n",
      "    \"build_snapshot\" : false,\n",
      "    \"lucene_version\" : \"9.12.0\",\n",
      "    \"minimum_wire_compatibility_version\" : \"7.17.0\",\n",
      "    \"minimum_index_compatibility_version\" : \"7.0.0\"\n",
      "  },\n",
      "  \"tagline\" : \"You Know, for Search\"\n",
      "}\n"
     ]
    }
   ],
   "source": [
    "# Q1\n",
    "!curl http://localhost:9200"
   ]
  },
  {
   "cell_type": "code",
   "execution_count": 64,
   "metadata": {},
   "outputs": [],
   "source": [
    "import requests \n",
    "\n",
    "docs_url = 'https://github.com/DataTalksClub/llm-zoomcamp/blob/main/01-intro/documents.json?raw=1'\n",
    "docs_response = requests.get(docs_url)\n",
    "documents_raw = docs_response.json()\n",
    "\n",
    "documents = []\n",
    "\n",
    "for course in documents_raw:\n",
    "    course_name = course['course']\n",
    "\n",
    "    for doc in course['documents']:\n",
    "        doc['course'] = course_name\n",
    "        documents.append(doc)"
   ]
  },
  {
   "cell_type": "code",
   "execution_count": 141,
   "metadata": {},
   "outputs": [
    {
     "data": {
      "text/plain": [
       "{'text': 'GitHub - DataTalksClub data-engineering-zoomcamp#prerequisites',\n",
       " 'section': 'General course-related questions',\n",
       " 'question': 'Course - What are the prerequisites for this course?',\n",
       " 'course': 'data-engineering-zoomcamp'}"
      ]
     },
     "execution_count": 141,
     "metadata": {},
     "output_type": "execute_result"
    }
   ],
   "source": [
    "\n",
    "[type(documents), len(documents)]\n",
    "documents[1]"
   ]
  },
  {
   "cell_type": "code",
   "execution_count": 85,
   "metadata": {},
   "outputs": [
    {
     "data": {
      "text/plain": [
       "ObjectApiResponse({'name': '35bc0b180d8a', 'cluster_name': 'docker-cluster', 'cluster_uuid': '_eKjvkP7QROgLJfiRInGnw', 'version': {'number': '8.17.6', 'build_flavor': 'default', 'build_type': 'docker', 'build_hash': 'dbcbbbd0bc4924cfeb28929dc05d82d662c527b7', 'build_date': '2025-04-30T14:07:12.231372970Z', 'build_snapshot': False, 'lucene_version': '9.12.0', 'minimum_wire_compatibility_version': '7.17.0', 'minimum_index_compatibility_version': '7.0.0'}, 'tagline': 'You Know, for Search'})"
      ]
     },
     "execution_count": 85,
     "metadata": {},
     "output_type": "execute_result"
    }
   ],
   "source": [
    "from elasticsearch import Elasticsearch\n",
    "\n",
    "es = Elasticsearch(\"http://localhost:9200\")\n",
    "es.info()"
   ]
  },
  {
   "cell_type": "code",
   "execution_count": 87,
   "metadata": {},
   "outputs": [
    {
     "data": {
      "text/plain": [
       "ObjectApiResponse({'acknowledged': True, 'shards_acknowledged': True, 'index': 'course-questions'})"
      ]
     },
     "execution_count": 87,
     "metadata": {},
     "output_type": "execute_result"
    }
   ],
   "source": [
    "index_settings = {\n",
    "    \"settings\": {\n",
    "        \"number_of_shards\": 1,\n",
    "        \"number_of_replicas\": 0\n",
    "    },\n",
    "    \"mappings\": {\n",
    "        \"properties\": {\n",
    "            \"text\": {\"type\": \"text\"},\n",
    "            \"section\": {\"type\": \"text\"},\n",
    "            \"question\": {\"type\": \"text\"},\n",
    "            \"course\": {\"type\": \"keyword\"} \n",
    "        }\n",
    "    }\n",
    "}\n",
    "\n",
    "index_name = \"course-questions\"\n",
    "response = es.indices.create(index=index_name, body=index_settings)\n",
    "\n",
    "response"
   ]
  },
  {
   "cell_type": "code",
   "execution_count": 88,
   "metadata": {},
   "outputs": [
    {
     "data": {
      "application/vnd.jupyter.widget-view+json": {
       "model_id": "0ff7bf169d694f58932cf3686904deae",
       "version_major": 2,
       "version_minor": 0
      },
      "text/plain": [
       "  0%|          | 0/948 [00:00<?, ?it/s]"
      ]
     },
     "metadata": {},
     "output_type": "display_data"
    }
   ],
   "source": [
    "# Q2\n",
    "from tqdm.auto import tqdm\n",
    "\n",
    "for doc in tqdm(documents):\n",
    "    es.index(index=index_name, document=doc)"
   ]
  },
  {
   "cell_type": "code",
   "execution_count": null,
   "metadata": {},
   "outputs": [],
   "source": [
    "user_question= \"How do execute a command on a Kubernetes pod?\"\n",
    "search_query = {\n",
    "    \"size\": 5,\n",
    "    \"query\": {\n",
    "        \"bool\": {\n",
    "            \"must\": {\n",
    "                \"multi_match\": {\n",
    "                    \"query\": user_question,\n",
    "                    \"fields\": [\"question^4\", \"text\"],\n",
    "                    \"type\": \"best_fields\"\n",
    "                }\n",
    "            },  \n",
    "        }\n",
    "    }\n",
    "}\n",
    "\n",
    "response = es.search(index=index_name, body=search_query)\n"
   ]
  },
  {
   "cell_type": "code",
   "execution_count": 96,
   "metadata": {},
   "outputs": [
    {
     "name": "stdout",
     "output_type": "stream",
     "text": [
      "Top-level keys in response:\n",
      "dict_keys(['took', 'timed_out', '_shards', 'hits'])\n",
      "\n",
      "Full response structure:\n",
      "ObjectApiResponse({'took': 23, 'timed_out': False, '_shards': {'total': 1, 'successful': 1, 'skipped': 0, 'failed': 0}, 'hits': {'total': {'value': 739, 'relation': 'eq'}, 'max_score': 44.50556, 'hits': [{'_index': 'course-questions', '_id': 'lvSZHZcBdgauo6t84jmq', '_score': 44.50556, '_source': {'text': 'Launch the container image in interactive mode and overriding the entrypoint, so that it starts a bash command.\\ndocker run -it --entrypoint bash <image>\\nIf the container is already running, execute a command in the specific container:\\ndocker ps (find the container-id)\\ndocker exec -it <container-id> bash\\n(Marcos MJD)', 'section': '5. Deploying Machine Learning Models', 'question': 'How do I debug a docker container?', 'course': 'machine-learning-zoomcamp'}}, {'_index': 'course-questions', '_id': 'JfSZHZcBdgauo6t84zrf', '_score': 35.433445, '_source': {'text': 'Deploy and Access the Kubernetes Dashboard\\nLuke', 'section': '10. Kubernetes and TensorFlow Serving', 'question': 'Kubernetes-dashboard', 'course': 'machine-learning-zoomcamp'}}, {'_index': 'course-questions', '_id': 'tvSZHZcBdgauo6t84jn8', '_score': 33.70974, '_source': {'text': 'You can copy files from your local machine into a Docker container using the docker cp command. Here\\'s how to do it:\\nIn the Dockerfile, you can provide the folder containing the files that you want to copy over. The basic syntax is as follows:\\nCOPY [\"src/predict.py\", \"models/xgb_model.bin\", \"./\"]\\t\\t\\t\\t\\t\\t\\t\\t\\t\\t\\tGopakumar Gopinathan', 'section': '5. Deploying Machine Learning Models', 'question': 'How do I copy files from a different folder into docker container’s working directory?', 'course': 'machine-learning-zoomcamp'}}, {'_index': 'course-questions', '_id': 'pfSZHZcBdgauo6t84jnV', '_score': 33.2635, '_source': {'text': 'Problem description:\\nI started a web-server in terminal (command window, powershell, etc.). How can I run another python script, which makes a request to this server?\\nSolution description:\\nJust open another terminal (command window, powershell, etc.) and run a python script.\\nAlena Kniazeva', 'section': '5. Deploying Machine Learning Models', 'question': 'How to run a script while a web-server is working?', 'course': 'machine-learning-zoomcamp'}}, {'_index': 'course-questions', '_id': 'ePSZHZcBdgauo6t84jlf', '_score': 32.589073, '_source': {'text': \"Matplotlib has a cool method to annotate where you could provide an X,Y point and annotate with an arrow and text. For example this will show an arrow pointing to the x,y point optimal threshold.\\nplt.annotate(f'Optimal Threshold: {optimal_threshold:.2f}\\\\nOptimal F1 Score: {optimal_f1_score:.2f}',\\nxy=(optimal_threshold, optimal_f1_score),\\nxytext=(0.3, 0.5),\\ntextcoords='axes fraction',\\narrowprops=dict(facecolor='black', shrink=0.05))\\nQuinn Avila\", 'section': '4. Evaluation Metrics for Classification', 'question': 'How can I annotate a graph?', 'course': 'machine-learning-zoomcamp'}}]}})\n",
      "\n",
      "Keys in response['hits']:\n",
      "dict_keys(['total', 'max_score', 'hits'])\n",
      "\n",
      "First hit example:\n",
      "{'_id': 'lvSZHZcBdgauo6t84jmq',\n",
      " '_index': 'course-questions',\n",
      " '_score': 44.50556,\n",
      " '_source': {'course': 'machine-learning-zoomcamp',\n",
      "             'question': 'How do I debug a docker container?',\n",
      "             'section': '5. Deploying Machine Learning Models',\n",
      "             'text': 'Launch the container image in interactive mode and '\n",
      "                     'overriding the entrypoint, so that it starts a bash '\n",
      "                     'command.\\n'\n",
      "                     'docker run -it --entrypoint bash <image>\\n'\n",
      "                     'If the container is already running, execute a command '\n",
      "                     'in the specific container:\\n'\n",
      "                     'docker ps (find the container-id)\\n'\n",
      "                     'docker exec -it <container-id> bash\\n'\n",
      "                     '(Marcos MJD)'}}\n"
     ]
    }
   ],
   "source": [
    "# Q3\n",
    "# Print the keys at the top level\n",
    "print(\"Top-level keys in response:\")\n",
    "print(response.keys())\n",
    "\n",
    "# Pretty print the whole response (be careful if it's very large)\n",
    "print(\"\\nFull response structure:\")\n",
    "pprint(response)\n",
    "\n",
    "# To explore further, for example, the hits:\n",
    "if \"hits\" in response:\n",
    "    print(\"\\nKeys in response['hits']:\")\n",
    "    print(response[\"hits\"].keys())\n",
    "    print(\"\\nFirst hit example:\")\n",
    "    if response[\"hits\"][\"hits\"]:\n",
    "        pprint(response[\"hits\"][\"hits\"][0])\n",
    "\n"
   ]
  },
  {
   "cell_type": "code",
   "execution_count": 99,
   "metadata": {},
   "outputs": [],
   "source": [
    "user_question= \"How do copy a file to a Docker container?\"\n",
    "search_query = {\n",
    "    \"size\": 3,\n",
    "    \"query\": {\n",
    "        \"bool\": {\n",
    "            \"must\": {\n",
    "                \"multi_match\": {\n",
    "                    \"query\": user_question,\n",
    "                    \"fields\": [\"question^4\", \"text\"],\n",
    "                    \"type\": \"best_fields\"\n",
    "                }\n",
    "            }, \n",
    "            \"filter\": {\n",
    "                \"term\": {\n",
    "                    \"course\": \"machine-learning-zoomcamp\"\n",
    "                }\n",
    "            }\n",
    "        }\n",
    "    }\n",
    "}\n",
    "\n",
    "response = es.search(index=index_name, body=search_query)"
   ]
  },
  {
   "cell_type": "code",
   "execution_count": 100,
   "metadata": {},
   "outputs": [
    {
     "name": "stdout",
     "output_type": "stream",
     "text": [
      "\n",
      "Keys in response['hits']:\n",
      "dict_keys(['total', 'max_score', 'hits'])\n",
      "\n",
      "First hit example:\n",
      "{'_id': 'tvSZHZcBdgauo6t84jn8',\n",
      " '_index': 'course-questions',\n",
      " '_score': 59.812744,\n",
      " '_source': {'course': 'machine-learning-zoomcamp',\n",
      "             'question': 'How do I copy files from a different folder into '\n",
      "                         'docker container’s working directory?',\n",
      "             'section': '5. Deploying Machine Learning Models',\n",
      "             'text': 'You can copy files from your local machine into a Docker '\n",
      "                     \"container using the docker cp command. Here's how to do \"\n",
      "                     'it:\\n'\n",
      "                     'In the Dockerfile, you can provide the folder containing '\n",
      "                     'the files that you want to copy over. The basic syntax '\n",
      "                     'is as follows:\\n'\n",
      "                     'COPY [\"src/predict.py\", \"models/xgb_model.bin\", '\n",
      "                     '\"./\"]\\t\\t\\t\\t\\t\\t\\t\\t\\t\\t\\tGopakumar Gopinathan'}}\n"
     ]
    }
   ],
   "source": [
    "# Q4\n",
    "if \"hits\" in response:\n",
    "    print(\"\\nKeys in response['hits']:\")\n",
    "    print(response[\"hits\"].keys())\n",
    "    print(\"\\nFirst hit example:\")\n",
    "    if response[\"hits\"][\"hits\"]:\n",
    "        pprint(response[\"hits\"][\"hits\"][2])"
   ]
  },
  {
   "cell_type": "code",
   "execution_count": 131,
   "metadata": {},
   "outputs": [],
   "source": [
    "def retrieve_documents(query, index_name=\"course-questions\", max_results=3):\n",
    "    es = Elasticsearch(\"http://localhost:9200\")\n",
    "    \n",
    "    search_query = {\n",
    "        \"size\": max_results,\n",
    "        \"query\": {\n",
    "            \"bool\": {\n",
    "                \"must\": {\n",
    "                    \"multi_match\": {\n",
    "                        \"query\": query,\n",
    "                        \"fields\": [\"question^4\", \"text\"],\n",
    "                        \"type\": \"best_fields\"\n",
    "                    }\n",
    "                }, \n",
    "                \"filter\": {\n",
    "                    \"term\": {\n",
    "                        \"course\": \"machine-learning-zoomcamp\"\n",
    "                    }\n",
    "                }\n",
    "            }\n",
    "        }\n",
    "    }\n",
    "        \n",
    "    response = es.search(index=index_name, body=search_query)\n",
    "    documents = [hit['_source'] for hit in response['hits']['hits']]\n",
    "    return documents"
   ]
  },
  {
   "cell_type": "code",
   "execution_count": 132,
   "metadata": {},
   "outputs": [
    {
     "name": "stdout",
     "output_type": "stream",
     "text": [
      "Section: 5. Deploying Machine Learning Models\n",
      "Question: How do I debug a docker container?\n",
      "Answer: Launch the container image in interactive mode and overridin...\n",
      "\n",
      "Section: 5. Deploying Machine Learning Models\n",
      "Question: How do I copy files from my local machine to docker container?\n",
      "Answer: You can copy files from your local machine into a Docker con...\n",
      "\n",
      "Section: 5. Deploying Machine Learning Models\n",
      "Question: How do I copy files from a different folder into docker container’s working directory?\n",
      "Answer: You can copy files from your local machine into a Docker con...\n",
      "\n"
     ]
    }
   ],
   "source": [
    "user_question = \"How do copy a file to a Docker container?\"\n",
    "\n",
    "response = retrieve_documents(user_question)\n",
    "\n",
    "for doc in response:\n",
    "    print(f\"Section: {doc['section']}\")\n",
    "    print(f\"Question: {doc['question']}\")\n",
    "    print(f\"Answer: {doc['text'][:60]}...\\n\")"
   ]
  },
  {
   "cell_type": "code",
   "execution_count": 133,
   "metadata": {},
   "outputs": [
    {
     "name": "stdout",
     "output_type": "stream",
     "text": [
      "Q: How do I debug a docker container?\n",
      "A: Launch the container image in interactive mode and overriding the entrypoint, so that it starts a bash command.\n",
      "docker run -it --entrypoint bash <image>\n",
      "If the container is already running, execute a command in the specific container:\n",
      "docker ps (find the container-id)\n",
      "docker exec -it <container-id> bash\n",
      "(Marcos MJD)\n",
      "\n",
      "Q: How do I copy files from my local machine to docker container?\n",
      "A: You can copy files from your local machine into a Docker container using the docker cp command. Here's how to do it:\n",
      "To copy a file or directory from your local machine into a running Docker container, you can use the `docker cp command`. The basic syntax is as follows:\n",
      "docker cp /path/to/local/file_or_directory container_id:/path/in/container\n",
      "Hrithik Kumar Advani\n",
      "\n",
      "Q: How do I copy files from a different folder into docker container’s working directory?\n",
      "A: You can copy files from your local machine into a Docker container using the docker cp command. Here's how to do it:\n",
      "In the Dockerfile, you can provide the folder containing the files that you want to copy over. The basic syntax is as follows:\n",
      "COPY [\"src/predict.py\", \"models/xgb_model.bin\", \"./\"]\t\t\t\t\t\t\t\t\t\t\tGopakumar Gopinathan\n"
     ]
    }
   ],
   "source": [
    "context_template = \"\"\"\n",
    "Q: {question}\n",
    "A: {text}\n",
    "\"\"\".strip()\n",
    "context_result = \"\"\n",
    "\n",
    "for doc in response:\n",
    "    doc_str = context_template.format(**doc)\n",
    "    context_result += (\"\\n\\n\" + doc_str)\n",
    "\n",
    "context = context_result.strip()\n",
    "print(context)"
   ]
  },
  {
   "cell_type": "code",
   "execution_count": 134,
   "metadata": {},
   "outputs": [
    {
     "name": "stdout",
     "output_type": "stream",
     "text": [
      "(\"You're a course teaching assistant. Answer the QUESTION based on the CONTEXT \"\n",
      " 'from the FAQ database.\\n'\n",
      " 'Use only the facts from the CONTEXT when answering the QUESTION.\\n'\n",
      " '\\n'\n",
      " 'QUESTION: How do copy a file to a Docker container?\\n'\n",
      " '\\n'\n",
      " 'CONTEXT:\\n'\n",
      " 'Q: How do I debug a docker container?\\n'\n",
      " 'A: Launch the container image in interactive mode and overriding the '\n",
      " 'entrypoint, so that it starts a bash command.\\n'\n",
      " 'docker run -it --entrypoint bash <image>\\n'\n",
      " 'If the container is already running, execute a command in the specific '\n",
      " 'container:\\n'\n",
      " 'docker ps (find the container-id)\\n'\n",
      " 'docker exec -it <container-id> bash\\n'\n",
      " '(Marcos MJD)\\n'\n",
      " '\\n'\n",
      " 'Q: How do I copy files from my local machine to docker container?\\n'\n",
      " 'A: You can copy files from your local machine into a Docker container using '\n",
      " \"the docker cp command. Here's how to do it:\\n\"\n",
      " 'To copy a file or directory from your local machine into a running Docker '\n",
      " 'container, you can use the `docker cp command`. The basic syntax is as '\n",
      " 'follows:\\n'\n",
      " 'docker cp /path/to/local/file_or_directory container_id:/path/in/container\\n'\n",
      " 'Hrithik Kumar Advani\\n'\n",
      " '\\n'\n",
      " 'Q: How do I copy files from a different folder into docker container’s '\n",
      " 'working directory?\\n'\n",
      " 'A: You can copy files from your local machine into a Docker container using '\n",
      " \"the docker cp command. Here's how to do it:\\n\"\n",
      " 'In the Dockerfile, you can provide the folder containing the files that you '\n",
      " 'want to copy over. The basic syntax is as follows:\\n'\n",
      " 'COPY [\"src/predict.py\", \"models/xgb_model.bin\", \"./\"]\\t\\t\\t\\t\\t\\t\\t\\t\\t\\t\\t'\n",
      " 'Gopakumar Gopinathan')\n",
      "1446\n"
     ]
    }
   ],
   "source": [
    "# Q5\n",
    "prompt = f\"\"\"\n",
    "You're a course teaching assistant. Answer the QUESTION based on the CONTEXT from the FAQ database.\n",
    "Use only the facts from the CONTEXT when answering the QUESTION.\n",
    "\n",
    "QUESTION: {user_question}\n",
    "\n",
    "CONTEXT:\n",
    "{context}\n",
    "\"\"\".strip()\n",
    "pprint(prompt)\n",
    "print(len(prompt))"
   ]
  },
  {
   "cell_type": "code",
   "execution_count": 135,
   "metadata": {},
   "outputs": [
    {
     "name": "stdout",
     "output_type": "stream",
     "text": [
      "Number of tokens in prompt: 320\n"
     ]
    }
   ],
   "source": [
    "# Q6\n",
    "import tiktoken\n",
    "encoding = tiktoken.encoding_for_model(\"gpt-4o\")\n",
    "num_tokens = len(encoding.encode(prompt))\n",
    "print(f\"Number of tokens in prompt: {num_tokens}\")\n"
   ]
  },
  {
   "cell_type": "code",
   "execution_count": 136,
   "metadata": {},
   "outputs": [
    {
     "name": "stdout",
     "output_type": "stream",
     "text": [
      "To copy a file to a Docker container, you can use the docker cp command. The syntax would look like this: \n",
      "docker cp /path/to/local/file_or_directory container_id:/path/in/container.\n"
     ]
    }
   ],
   "source": [
    "# bonus question 1\n",
    "from openai import OpenAI\n",
    "client = OpenAI()\n",
    "\n",
    "response = client.chat.completions.create(\n",
    "    model=\"gpt-4\",\n",
    "    messages=[\n",
    "        {\"role\": \"user\", \"content\": prompt}\n",
    "    ]\n",
    ")\n",
    "\n",
    "print(response.choices[0].message.content)"
   ]
  },
  {
   "cell_type": "code",
   "execution_count": 139,
   "metadata": {},
   "outputs": [
    {
     "name": "stdout",
     "output_type": "stream",
     "text": [
      "general cost of 1000 questions in dollars: 3.75075\n",
      "cost curent prompt in dollars: 0.002215\n"
     ]
    }
   ],
   "source": [
    "# bonus question 2\n",
    "in_cost=0.005/1000; out_cost=0.015/1000;\n",
    "cost1 =150*in_cost+250*out_cost*1000\n",
    "print(f\"general cost of 1000 questions in dollars: {cost1}\")\n",
    "\n",
    "cost2=len(encoding.encode(prompt))*in_cost +len(encoding.encode(response.choices[0].message.content))*out_cost\n",
    "print(f\"cost curent prompt in dollars: {cost2}\")\n",
    "\n",
    "\n"
   ]
  }
 ],
 "metadata": {
  "kernelspec": {
   "display_name": "Python (Finespresso)",
   "language": "python",
   "name": "finespresso"
  },
  "language_info": {
   "codemirror_mode": {
    "name": "ipython",
    "version": 3
   },
   "file_extension": ".py",
   "mimetype": "text/x-python",
   "name": "python",
   "nbconvert_exporter": "python",
   "pygments_lexer": "ipython3",
   "version": "3.11.8"
  }
 },
 "nbformat": 4,
 "nbformat_minor": 2
}
